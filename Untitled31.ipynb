{
  "nbformat": 4,
  "nbformat_minor": 0,
  "metadata": {
    "colab": {
      "provenance": []
    },
    "kernelspec": {
      "name": "python3",
      "display_name": "Python 3"
    },
    "language_info": {
      "name": "python"
    }
  },
  "cells": [
    {
      "cell_type": "code",
      "execution_count": null,
      "metadata": {
        "id": "Szn3JoQDQTK4"
      },
      "outputs": [],
      "source": [
        "#ödevler"
      ]
    },
    {
      "cell_type": "code",
      "source": [
        "# 1.ödev\n",
        "liste=list('Bahar ÇATO')\n",
        "liste"
      ],
      "metadata": {
        "colab": {
          "base_uri": "https://localhost:8080/"
        },
        "id": "6AFGlOFkQcEB",
        "outputId": "1bc25239-d761-4ba3-dfba-ac6816e7b018"
      },
      "execution_count": 1,
      "outputs": [
        {
          "output_type": "execute_result",
          "data": {
            "text/plain": [
              "['B', 'a', 'h', 'a', 'r', ' ', 'Ç', 'A', 'T', 'O']"
            ]
          },
          "metadata": {},
          "execution_count": 1
        }
      ]
    },
    {
      "cell_type": "code",
      "source": [
        "# 2. ödev\n",
        "a=(1, 2, 3, 4, 5, 6)\n",
        "print(a[5])"
      ],
      "metadata": {
        "colab": {
          "base_uri": "https://localhost:8080/"
        },
        "id": "2mFAE4J6QxZh",
        "outputId": "afad3c7e-3ebf-42b0-f46f-9d2a2f0ac8eb"
      },
      "execution_count": 2,
      "outputs": [
        {
          "output_type": "stream",
          "name": "stdout",
          "text": [
            "6\n"
          ]
        }
      ]
    },
    {
      "cell_type": "code",
      "source": [
        "# 3. ödev\n",
        "print('**********ATM GİRİŞ PANELİ**********')\n",
        "kullanici_adi='bahar'\n",
        "parola='2003'\n",
        "counter=0\n",
        "\n",
        "while 3 >= counter >=0:\n",
        "  counter += counter\n",
        "  if counter == 3:\n",
        "    break\n",
        "kullanici_adi1 = input('Lütfen kullanıcı adınızı giriniz:')\n",
        "parola1= input('Lütfen parolanızı giriniz:')\n",
        "\n",
        "if (kullanici_adi != kullanici_adi1 and parola == parola1 ):\n",
        "  counter = counter + 1\n",
        "  print('kullanıcı adınız hatalı.')\n",
        "elif (kullanici_adi == kullanici_adi1 and parola != parola1 ):\n",
        "  counter = counter + 1\n",
        "  print('parola hatalı.')\n",
        "elif (kullanici_adi != kullanici_adi1 and parola != parola1 ):\n",
        "  counter = counter + 1\n",
        "  print('kullanıcı adı ve parola hatalı.')\n",
        "elif (kullanici_adi == kullanici_adi1 and parola == parola1 ):\n",
        "  print('bilgiler doğrulanıyor.giriş yapılıyor.')\n",
        "  break\n",
        "if counter >=4:\n",
        "  print('giriş hakkınız doldu.')"
      ],
      "metadata": {
        "colab": {
          "base_uri": "https://localhost:8080/"
        },
        "id": "GJewdtMiRBdW",
        "outputId": "a79700df-01f3-409c-eec8-830da9fd32fb"
      },
      "execution_count": null,
      "outputs": [
        {
          "output_type": "stream",
          "name": "stdout",
          "text": [
            "**********ATM GİRİŞ PANELİ**********\n"
          ]
        }
      ]
    }
  ]
}